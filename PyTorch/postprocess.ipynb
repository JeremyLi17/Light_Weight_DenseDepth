{
 "cells": [
  {
   "cell_type": "code",
   "execution_count": null,
   "metadata": {},
   "outputs": [],
   "source": [
    "# Clone repo\n",
    "!git clone https://github.com/compphoto/BoostYourOwnDepth.git\n",
    "\n",
    "# Downloading merge model weights\n",
    "!wget https://sfu.ca/~yagiz/CVPR21/latest_net_G.pth\n",
    "\n",
    "!mkdir -p /content/BoostYourOwnDepth/pix2pix/checkpoints/mergemodel/\n",
    "!mv /content/latest_net_G.pth /content/BoostYourOwnDepth/pix2pix/checkpoints/mergemodel/\n"
   ]
  },
  {
   "attachments": {},
   "cell_type": "markdown",
   "metadata": {},
   "source": [
    "- NOTE: put low-res and high-res depth into the corresponding folder(/BoostYourOwnDepth/input/...)"
   ]
  },
  {
   "cell_type": "code",
   "execution_count": null,
   "metadata": {},
   "outputs": [],
   "source": [
    "!python3 /content/BoostYourOwnDepth/boost_depth.py --data_dir /content/BoostYourOwnDepth/input/ --output_dir /content/BoostYourOwnDepth/output --checkpoints_dir /content/BoostYourOwnDepth/pix2pix/checkpoints --colorize_results"
   ]
  }
 ],
 "metadata": {
  "kernelspec": {
   "display_name": "base",
   "language": "python",
   "name": "python3"
  },
  "language_info": {
   "name": "python",
   "version": "3.9.7 (default, Sep 16 2021, 08:50:36) \n[Clang 10.0.0 ]"
  },
  "orig_nbformat": 4,
  "vscode": {
   "interpreter": {
    "hash": "92682f8464e9044ba142483ddeefd87e1deb5806fbb1da5a3f470e5bd39935be"
   }
  }
 },
 "nbformat": 4,
 "nbformat_minor": 2
}
